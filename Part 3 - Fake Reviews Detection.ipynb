{
 "cells": [
  {
   "cell_type": "code",
   "execution_count": 3,
   "id": "f1ddc23d",
   "metadata": {},
   "outputs": [],
   "source": [
    "import numpy as np\n",
    "import pandas as pd\n",
    "import seaborn as sns\n",
    "import matplotlib.pyplot as plt\n",
    "%matplotlib inline\n",
    "import warnings, string\n",
    "warnings.filterwarnings('ignore')\n",
    "from sklearn.model_selection import train_test_split, GridSearchCV\n",
    "from sklearn.metrics import classification_report, confusion_matrix, accuracy_score\n",
    "import nltk\n",
    "from nltk.corpus import stopwords\n",
    "from sklearn.feature_extraction.text import CountVectorizer, TfidfTransformer\n",
    "from sklearn.naive_bayes import MultinomialNB\n",
    "from sklearn.pipeline import Pipeline\n",
    "from sklearn.ensemble import RandomForestClassifier\n",
    "from sklearn.tree import DecisionTreeClassifier\n",
    "from sklearn.neighbors import KNeighborsClassifier\n",
    "from sklearn.svm import SVC\n",
    "from sklearn.linear_model import LogisticRegression"
   ]
  },
  {
   "cell_type": "code",
   "execution_count": 4,
   "id": "46e09e82",
   "metadata": {},
   "outputs": [
    {
     "data": {
      "text/html": [
       "<div>\n",
       "<style scoped>\n",
       "    .dataframe tbody tr th:only-of-type {\n",
       "        vertical-align: middle;\n",
       "    }\n",
       "\n",
       "    .dataframe tbody tr th {\n",
       "        vertical-align: top;\n",
       "    }\n",
       "\n",
       "    .dataframe thead th {\n",
       "        text-align: right;\n",
       "    }\n",
       "</style>\n",
       "<table border=\"1\" class=\"dataframe\">\n",
       "  <thead>\n",
       "    <tr style=\"text-align: right;\">\n",
       "      <th></th>\n",
       "      <th>Unnamed: 0</th>\n",
       "      <th>category</th>\n",
       "      <th>rating</th>\n",
       "      <th>label</th>\n",
       "      <th>text_</th>\n",
       "    </tr>\n",
       "  </thead>\n",
       "  <tbody>\n",
       "    <tr>\n",
       "      <th>0</th>\n",
       "      <td>0</td>\n",
       "      <td>Home_and_Kitchen_5</td>\n",
       "      <td>5.0</td>\n",
       "      <td>CG</td>\n",
       "      <td>love well made sturdi comfort i love veri pretti</td>\n",
       "    </tr>\n",
       "    <tr>\n",
       "      <th>1</th>\n",
       "      <td>1</td>\n",
       "      <td>Home_and_Kitchen_5</td>\n",
       "      <td>5.0</td>\n",
       "      <td>CG</td>\n",
       "      <td>love great upgrad origin i 've mine coupl year</td>\n",
       "    </tr>\n",
       "    <tr>\n",
       "      <th>2</th>\n",
       "      <td>2</td>\n",
       "      <td>Home_and_Kitchen_5</td>\n",
       "      <td>5.0</td>\n",
       "      <td>CG</td>\n",
       "      <td>thi pillow save back i love look feel pillow</td>\n",
       "    </tr>\n",
       "    <tr>\n",
       "      <th>3</th>\n",
       "      <td>3</td>\n",
       "      <td>Home_and_Kitchen_5</td>\n",
       "      <td>1.0</td>\n",
       "      <td>CG</td>\n",
       "      <td>miss inform use great product price i</td>\n",
       "    </tr>\n",
       "    <tr>\n",
       "      <th>4</th>\n",
       "      <td>4</td>\n",
       "      <td>Home_and_Kitchen_5</td>\n",
       "      <td>5.0</td>\n",
       "      <td>CG</td>\n",
       "      <td>veri nice set good qualiti we set two month</td>\n",
       "    </tr>\n",
       "  </tbody>\n",
       "</table>\n",
       "</div>"
      ],
      "text/plain": [
       "   Unnamed: 0            category  rating label  \\\n",
       "0           0  Home_and_Kitchen_5     5.0    CG   \n",
       "1           1  Home_and_Kitchen_5     5.0    CG   \n",
       "2           2  Home_and_Kitchen_5     5.0    CG   \n",
       "3           3  Home_and_Kitchen_5     1.0    CG   \n",
       "4           4  Home_and_Kitchen_5     5.0    CG   \n",
       "\n",
       "                                              text_  \n",
       "0  love well made sturdi comfort i love veri pretti  \n",
       "1    love great upgrad origin i 've mine coupl year  \n",
       "2      thi pillow save back i love look feel pillow  \n",
       "3             miss inform use great product price i  \n",
       "4       veri nice set good qualiti we set two month  "
      ]
     },
     "execution_count": 4,
     "metadata": {},
     "output_type": "execute_result"
    }
   ],
   "source": [
    "df = pd.read_csv('Preprocessed Fake Reviews Detection Dataset.csv')\n",
    "df.head()"
   ]
  },
  {
   "cell_type": "code",
   "execution_count": 5,
   "id": "ec807090",
   "metadata": {},
   "outputs": [],
   "source": [
    "df.drop('Unnamed: 0',axis=1,inplace=True)"
   ]
  },
  {
   "cell_type": "code",
   "execution_count": 6,
   "id": "210251cc",
   "metadata": {},
   "outputs": [
    {
     "data": {
      "text/html": [
       "<div>\n",
       "<style scoped>\n",
       "    .dataframe tbody tr th:only-of-type {\n",
       "        vertical-align: middle;\n",
       "    }\n",
       "\n",
       "    .dataframe tbody tr th {\n",
       "        vertical-align: top;\n",
       "    }\n",
       "\n",
       "    .dataframe thead th {\n",
       "        text-align: right;\n",
       "    }\n",
       "</style>\n",
       "<table border=\"1\" class=\"dataframe\">\n",
       "  <thead>\n",
       "    <tr style=\"text-align: right;\">\n",
       "      <th></th>\n",
       "      <th>category</th>\n",
       "      <th>rating</th>\n",
       "      <th>label</th>\n",
       "      <th>text_</th>\n",
       "    </tr>\n",
       "  </thead>\n",
       "  <tbody>\n",
       "    <tr>\n",
       "      <th>0</th>\n",
       "      <td>Home_and_Kitchen_5</td>\n",
       "      <td>5.0</td>\n",
       "      <td>CG</td>\n",
       "      <td>love well made sturdi comfort i love veri pretti</td>\n",
       "    </tr>\n",
       "    <tr>\n",
       "      <th>1</th>\n",
       "      <td>Home_and_Kitchen_5</td>\n",
       "      <td>5.0</td>\n",
       "      <td>CG</td>\n",
       "      <td>love great upgrad origin i 've mine coupl year</td>\n",
       "    </tr>\n",
       "    <tr>\n",
       "      <th>2</th>\n",
       "      <td>Home_and_Kitchen_5</td>\n",
       "      <td>5.0</td>\n",
       "      <td>CG</td>\n",
       "      <td>thi pillow save back i love look feel pillow</td>\n",
       "    </tr>\n",
       "    <tr>\n",
       "      <th>3</th>\n",
       "      <td>Home_and_Kitchen_5</td>\n",
       "      <td>1.0</td>\n",
       "      <td>CG</td>\n",
       "      <td>miss inform use great product price i</td>\n",
       "    </tr>\n",
       "    <tr>\n",
       "      <th>4</th>\n",
       "      <td>Home_and_Kitchen_5</td>\n",
       "      <td>5.0</td>\n",
       "      <td>CG</td>\n",
       "      <td>veri nice set good qualiti we set two month</td>\n",
       "    </tr>\n",
       "  </tbody>\n",
       "</table>\n",
       "</div>"
      ],
      "text/plain": [
       "             category  rating label  \\\n",
       "0  Home_and_Kitchen_5     5.0    CG   \n",
       "1  Home_and_Kitchen_5     5.0    CG   \n",
       "2  Home_and_Kitchen_5     5.0    CG   \n",
       "3  Home_and_Kitchen_5     1.0    CG   \n",
       "4  Home_and_Kitchen_5     5.0    CG   \n",
       "\n",
       "                                              text_  \n",
       "0  love well made sturdi comfort i love veri pretti  \n",
       "1    love great upgrad origin i 've mine coupl year  \n",
       "2      thi pillow save back i love look feel pillow  \n",
       "3             miss inform use great product price i  \n",
       "4       veri nice set good qualiti we set two month  "
      ]
     },
     "execution_count": 6,
     "metadata": {},
     "output_type": "execute_result"
    }
   ],
   "source": [
    "df.head()"
   ]
  },
  {
   "cell_type": "code",
   "execution_count": 7,
   "id": "a5763dfc",
   "metadata": {},
   "outputs": [],
   "source": [
    "df.dropna(inplace=True)"
   ]
  },
  {
   "cell_type": "code",
   "execution_count": 8,
   "id": "304aa467",
   "metadata": {},
   "outputs": [],
   "source": [
    "df['length'] = df['text_'].apply(len)"
   ]
  },
  {
   "cell_type": "code",
   "execution_count": 9,
   "id": "e0c47197",
   "metadata": {},
   "outputs": [
    {
     "name": "stdout",
     "output_type": "stream",
     "text": [
      "<class 'pandas.core.frame.DataFrame'>\n",
      "Int64Index: 40431 entries, 0 to 40431\n",
      "Data columns (total 5 columns):\n",
      " #   Column    Non-Null Count  Dtype  \n",
      "---  ------    --------------  -----  \n",
      " 0   category  40431 non-null  object \n",
      " 1   rating    40431 non-null  float64\n",
      " 2   label     40431 non-null  object \n",
      " 3   text_     40431 non-null  object \n",
      " 4   length    40431 non-null  int64  \n",
      "dtypes: float64(1), int64(1), object(3)\n",
      "memory usage: 1.9+ MB\n"
     ]
    }
   ],
   "source": [
    "df.info()"
   ]
  },
  {
   "cell_type": "code",
   "execution_count": 10,
   "id": "6148dffc",
   "metadata": {},
   "outputs": [
    {
     "data": {
      "image/png": "[encoded data removed]",
      "text/plain": [
       "<Figure size 640x480 with 1 Axes>"
      ]
     },
     "metadata": {},
     "output_type": "display_data"
    }
   ],
   "source": [
    "plt.hist(df['length'],bins=50)\n",
    "plt.show()"
   ]
  },
  {
   "cell_type": "code",
   "execution_count": 11,
   "id": "78e8500d",
   "metadata": {},
   "outputs": [
    {
     "data": {
      "text/html": [
       "<div>\n",
       "<style scoped>\n",
       "    .dataframe tbody tr th:only-of-type {\n",
       "        vertical-align: middle;\n",
       "    }\n",
       "\n",
       "    .dataframe tbody tr th {\n",
       "        vertical-align: top;\n",
       "    }\n",
       "\n",
       "    .dataframe thead tr th {\n",
       "        text-align: left;\n",
       "    }\n",
       "\n",
       "    .dataframe thead tr:last-of-type th {\n",
       "        text-align: right;\n",
       "    }\n",
       "</style>\n",
       "<table border=\"1\" class=\"dataframe\">\n",
       "  <thead>\n",
       "    <tr>\n",
       "      <th></th>\n",
       "      <th colspan=\"8\" halign=\"left\">rating</th>\n",
       "      <th colspan=\"8\" halign=\"left\">length</th>\n",
       "    </tr>\n",
       "    <tr>\n",
       "      <th></th>\n",
       "      <th>count</th>\n",
       "      <th>mean</th>\n",
       "      <th>std</th>\n",
       "      <th>min</th>\n",
       "      <th>25%</th>\n",
       "      <th>50%</th>\n",
       "      <th>75%</th>\n",
       "      <th>max</th>\n",
       "      <th>count</th>\n",
       "      <th>mean</th>\n",
       "      <th>std</th>\n",
       "      <th>min</th>\n",
       "      <th>25%</th>\n",
       "      <th>50%</th>\n",
       "      <th>75%</th>\n",
       "      <th>max</th>\n",
       "    </tr>\n",
       "    <tr>\n",
       "      <th>label</th>\n",
       "      <th></th>\n",
       "      <th></th>\n",
       "      <th></th>\n",
       "      <th></th>\n",
       "      <th></th>\n",
       "      <th></th>\n",
       "      <th></th>\n",
       "      <th></th>\n",
       "      <th></th>\n",
       "      <th></th>\n",
       "      <th></th>\n",
       "      <th></th>\n",
       "      <th></th>\n",
       "      <th></th>\n",
       "      <th></th>\n",
       "      <th></th>\n",
       "    </tr>\n",
       "  </thead>\n",
       "  <tbody>\n",
       "    <tr>\n",
       "      <th>CG</th>\n",
       "      <td>20215.0</td>\n",
       "      <td>4.259906</td>\n",
       "      <td>1.141092</td>\n",
       "      <td>1.0</td>\n",
       "      <td>4.0</td>\n",
       "      <td>5.0</td>\n",
       "      <td>5.0</td>\n",
       "      <td>5.0</td>\n",
       "      <td>20215.0</td>\n",
       "      <td>173.639030</td>\n",
       "      <td>173.955252</td>\n",
       "      <td>13.0</td>\n",
       "      <td>57.0</td>\n",
       "      <td>99.0</td>\n",
       "      <td>217.0</td>\n",
       "      <td>1300.0</td>\n",
       "    </tr>\n",
       "    <tr>\n",
       "      <th>OR</th>\n",
       "      <td>20216.0</td>\n",
       "      <td>4.253265</td>\n",
       "      <td>1.147652</td>\n",
       "      <td>1.0</td>\n",
       "      <td>4.0</td>\n",
       "      <td>5.0</td>\n",
       "      <td>5.0</td>\n",
       "      <td>5.0</td>\n",
       "      <td>20216.0</td>\n",
       "      <td>237.892758</td>\n",
       "      <td>252.920635</td>\n",
       "      <td>8.0</td>\n",
       "      <td>74.0</td>\n",
       "      <td>134.0</td>\n",
       "      <td>296.0</td>\n",
       "      <td>2232.0</td>\n",
       "    </tr>\n",
       "  </tbody>\n",
       "</table>\n",
       "</div>"
      ],
      "text/plain": [
       "        rating                                                length  \\\n",
       "         count      mean       std  min  25%  50%  75%  max    count   \n",
       "label                                                                  \n",
       "CG     20215.0  4.259906  1.141092  1.0  4.0  5.0  5.0  5.0  20215.0   \n",
       "OR     20216.0  4.253265  1.147652  1.0  4.0  5.0  5.0  5.0  20216.0   \n",
       "\n",
       "                                                                 \n",
       "             mean         std   min   25%    50%    75%     max  \n",
       "label                                                            \n",
       "CG     173.639030  173.955252  13.0  57.0   99.0  217.0  1300.0  \n",
       "OR     237.892758  252.920635   8.0  74.0  134.0  296.0  2232.0  "
      ]
     },
     "execution_count": 11,
     "metadata": {},
     "output_type": "execute_result"
    }
   ],
   "source": [
    "df.groupby('label').describe()"
   ]
  },
  {
   "cell_type": "code",
   "execution_count": 10,
   "id": "e466777e",
   "metadata": {},
   "outputs": [
    {
     "data": {
      "image/png": "[encoded data removed]",
      "text/plain": [
       "<Figure size 1200x500 with 2 Axes>"
      ]
     },
     "metadata": {},
     "output_type": "display_data"
    }
   ],
   "source": [
    "df.hist(column='length',by='label',bins=50,color='blue',figsize=(12,5))\n",
    "plt.show()"
   ]
  },
  {
   "cell_type": "markdown",
   "id": "092b8ad0",
   "metadata": {},
   "source": [
    "Let's extract the largest review..."
   ]
  },
  {
   "cell_type": "code",
   "execution_count": 12,
   "id": "7e20b02e",
   "metadata": {},
   "outputs": [
    {
     "data": {
      "text/plain": [
       "\"weak on current scienc after see twice i agre much posit five star review out respect read review i 'll repeat everyth i like present i found goofi over ear hairdo facial hair arrang daniel vitali describ `` wild food expert '' distract ugh ditto david wolf extrem goofi wild hairdo on hand jon gabriel describ `` author weight loss expert '' nice groom good present hi stori person transform fellow pound whew becom jock normal weight inspir christian northrup preserv rank one america 's cutest doctor a realli nice look woman present dr. mercola jason vale kri carr alejandro junger fine it disappoint jami oliv popular uk give babi cow growth fluid pas unscientif popular idea milk none present anyth zilch say work doctor t. colin campbel milk bodi bad it good see present take stand sugar they agre evil sugar refin carbohydr with respect dr. northrup `` it 's fat make fat 's sugar '' statement pas muster commun expert recogn evil sugar not mutual exclus recogn proven danger fat particularli fat dead anim extract fat all kind oliv oil not health food data-hook= '' product-link-link '' class= '' a-link-norm '' href= '' /the-china-study-the-most-comprehensive-study-of-nutrition-ever-conducted-and-the-startling-implications-for-diet-weight-loss-and-long-term-health/dp/1932100660/ref=cm_cr_arp_d_rvw_txt ie=utf8 '' the china studi the most comprehens studi nutrit ever conduct and startl implic diet weight loss and long-term health /a data-hook= '' product-link-link '' class= '' a-link-norm '' href= '' /forks-over-knives/dp/b0053zhzi2/ref=cm_cr_arp_d_rvw_txt ie=utf8 '' fork over knive /a data-hook= '' product-link-link '' class= '' a-link-norm '' href= '' /prevent-and-reverse-heart-disease-the-revolutionary-scientifically-proven-nutrition-based-cure/dp/1583333002/ref=cm_cr_arp_d_rvw_txt ie=utf8 '' prevent revers heart diseas the revolutionari scientif proven nutrition-bas cure /a data-hook= '' product-link-link '' class= '' a-link-norm '' href= '' /the-plant-based-journey-a-step-by-step-guide-for-transitioning-to-a-healthy-lifestyle-and-achieving-your-ideal-weight/dp/1941631363/ref=cm_cr_arp_d_rvw_txt ie=utf8 '' the plant-bas journey a step-by-step guid transit healthi lifestyl achiev your ideal weight /a\""
      ]
     },
     "execution_count": 12,
     "metadata": {},
     "output_type": "execute_result"
    }
   ],
   "source": [
    "df[df['label']=='OR'][['text_','length']].sort_values(by='length',ascending=False).head().iloc[0].text_"
   ]
  },
  {
   "cell_type": "code",
   "execution_count": 13,
   "id": "c9d5a480",
   "metadata": {},
   "outputs": [
    {
     "data": {
      "text/plain": [
       "count    40431.000000\n",
       "mean       205.766689\n",
       "std        219.422084\n",
       "min          8.000000\n",
       "25%         64.000000\n",
       "50%        116.000000\n",
       "75%        253.000000\n",
       "max       2232.000000\n",
       "Name: length, dtype: float64"
      ]
     },
     "execution_count": 13,
     "metadata": {},
     "output_type": "execute_result"
    }
   ],
   "source": [
    "df.length.describe()"
   ]
  },
  {
   "cell_type": "code",
   "execution_count": 14,
   "id": "81649454",
   "metadata": {},
   "outputs": [],
   "source": [
    "def text_process(review):\n",
    "    nopunc = [char for char in review if char not in string.punctuation]\n",
    "    nopunc = ''.join(nopunc)\n",
    "    return [word for word in nopunc.split() if word.lower() not in stopwords.words('english')]"
   ]
  },
  {
   "cell_type": "code",
   "execution_count": 15,
   "id": "d3fc209c",
   "metadata": {},
   "outputs": [
    {
     "data": {
      "text/plain": [
       "CountVectorizer(analyzer=<function text_process at 0x000002958FF459D0>)"
      ]
     },
     "execution_count": 15,
     "metadata": {},
     "output_type": "execute_result"
    }
   ],
   "source": [
    "bow_transformer = CountVectorizer(analyzer=text_process)\n",
    "bow_transformer"
   ]
  },
  {
   "cell_type": "code",
   "execution_count": 16,
   "id": "bdb678ef",
   "metadata": {},
   "outputs": [
    {
     "name": "stdout",
     "output_type": "stream",
     "text": [
      "Total Vocabulary: 34450\n"
     ]
    }
   ],
   "source": [
    "bow_transformer.fit(df['text_'])\n",
    "print(\"Total Vocabulary:\",len(bow_transformer.vocabulary_))"
   ]
  },
  {
   "cell_type": "code",
   "execution_count": 17,
   "id": "07e1d8e5",
   "metadata": {},
   "outputs": [
    {
     "data": {
      "text/plain": [
       "'miss inform use great product price i'"
      ]
     },
     "execution_count": 17,
     "metadata": {},
     "output_type": "execute_result"
    }
   ],
   "source": [
    "review4 = df['text_'][3]\n",
    "review4"
   ]
  },
  {
   "cell_type": "code",
   "execution_count": 18,
   "id": "d6fdd2b0",
   "metadata": {},
   "outputs": [
    {
     "name": "stdout",
     "output_type": "stream",
     "text": [
      "  (0, 13598)\t1\n",
      "  (0, 15840)\t1\n",
      "  (0, 19848)\t1\n",
      "  (0, 23847)\t1\n",
      "  (0, 23977)\t1\n",
      "  (0, 32182)\t1\n",
      "(1, 34450)\n"
     ]
    }
   ],
   "source": [
    "bow_msg4 = bow_transformer.transform([review4])\n",
    "print(bow_msg4)\n",
    "print(bow_msg4.shape)"
   ]
  },
  {
   "cell_type": "markdown",
   "id": "61fa8d1a",
   "metadata": {},
   "source": [
    "There are 6 unique words in the 4th review."
   ]
  },
  {
   "cell_type": "code",
   "execution_count": 19,
   "id": "600e72bb",
   "metadata": {},
   "outputs": [
    {
     "name": "stdout",
     "output_type": "stream",
     "text": [
      "informationdirect\n",
      "pricecategori\n"
     ]
    }
   ],
   "source": [
    "print(bow_transformer.get_feature_names()[15841])\n",
    "print(bow_transformer.get_feature_names()[23848])"
   ]
  },
  {
   "cell_type": "code",
   "execution_count": 20,
   "id": "b00e702c",
   "metadata": {},
   "outputs": [],
   "source": [
    "bow_reviews = bow_transformer.transform(df['text_'])"
   ]
  },
  {
   "cell_type": "code",
   "execution_count": 21,
   "id": "87b42dd1",
   "metadata": {},
   "outputs": [
    {
     "name": "stdout",
     "output_type": "stream",
     "text": [
      "Shape of Bag of Words Transformer for the entire reviews corpus: (40431, 34450)\n",
      "Amount of non zero values in the bag of words model: 1013898\n"
     ]
    }
   ],
   "source": [
    "print(\"Shape of Bag of Words Transformer for the entire reviews corpus:\",bow_reviews.shape)\n",
    "print(\"Amount of non zero values in the bag of words model:\",bow_reviews.nnz)"
   ]
  },
  {
   "cell_type": "code",
   "execution_count": 22,
   "id": "bb8dd9b7",
   "metadata": {},
   "outputs": [
    {
     "name": "stdout",
     "output_type": "stream",
     "text": [
      "Sparsity: 0.07\n"
     ]
    }
   ],
   "source": [
    "print(\"Sparsity:\",np.round((bow_reviews.nnz/(bow_reviews.shape[0]*bow_reviews.shape[1]))*100,2))"
   ]
  },
  {
   "cell_type": "code",
   "execution_count": 23,
   "id": "e9d84aa8",
   "metadata": {},
   "outputs": [
    {
     "name": "stdout",
     "output_type": "stream",
     "text": [
      "  (0, 13598)\t1\n",
      "  (0, 15840)\t1\n",
      "  (0, 19848)\t1\n",
      "  (0, 23847)\t1\n",
      "  (0, 23977)\t1\n",
      "  (0, 32182)\t1\n"
     ]
    }
   ],
   "source": [
    "tfidf_transformer = TfidfTransformer().fit(bow_reviews)\n",
    "tfidf_rev4 = tfidf_transformer.transform(bow_msg4)\n",
    "print(bow_msg4)"
   ]
  },
  {
   "cell_type": "code",
   "execution_count": 24,
   "id": "9dc5bf62",
   "metadata": {},
   "outputs": [
    {
     "name": "stdout",
     "output_type": "stream",
     "text": [
      "10.91422964906803\n",
      "2.821684385176731\n"
     ]
    }
   ],
   "source": [
    "print(tfidf_transformer.idf_[bow_transformer.vocabulary_['mango']])\n",
    "print(tfidf_transformer.idf_[bow_transformer.vocabulary_['book']])"
   ]
  },
  {
   "cell_type": "code",
   "execution_count": 25,
   "id": "144873ee",
   "metadata": {},
   "outputs": [
    {
     "name": "stdout",
     "output_type": "stream",
     "text": [
      "Shape: (40431, 34450)\n",
      "No. of Dimensions: 2\n"
     ]
    }
   ],
   "source": [
    "tfidf_reviews = tfidf_transformer.transform(bow_reviews)\n",
    "print(\"Shape:\",tfidf_reviews.shape)\n",
    "print(\"No. of Dimensions:\",tfidf_reviews.ndim)"
   ]
  },
  {
   "cell_type": "markdown",
   "id": "7a11fecb",
   "metadata": {},
   "source": [
    "## Creating training and testing data"
   ]
  },
  {
   "cell_type": "code",
   "execution_count": 26,
   "id": "501767f8",
   "metadata": {},
   "outputs": [],
   "source": [
    "review_train, review_test, label_train, label_test = train_test_split(df['text_'],df['label'],test_size=0.35)"
   ]
  },
  {
   "cell_type": "code",
   "execution_count": 27,
   "id": "ca4043a3",
   "metadata": {},
   "outputs": [],
   "source": [
    "pipeline = Pipeline([\n",
    "    ('bow',CountVectorizer(analyzer=text_process)),\n",
    "    ('tfidf',TfidfTransformer()),\n",
    "    ('classifier',MultinomialNB())\n",
    "])"
   ]
  },
  {
   "cell_type": "markdown",
   "id": "549f1e01",
   "metadata": {},
   "source": [
    "## Training and testing Multinomial Naive Bayes Algorithm on the preprocessed data"
   ]
  },
  {
   "cell_type": "code",
   "execution_count": 28,
   "id": "dd5c82d6",
   "metadata": {},
   "outputs": [
    {
     "data": {
      "text/plain": [
       "Pipeline(steps=[('bow',\n",
       "                 CountVectorizer(analyzer=<function text_process at 0x000002958FF459D0>)),\n",
       "                ('tfidf', TfidfTransformer()),\n",
       "                ('classifier', MultinomialNB())])"
      ]
     },
     "execution_count": 28,
     "metadata": {},
     "output_type": "execute_result"
    }
   ],
   "source": [
    "pipeline.fit(review_train,label_train)"
   ]
  },
  {
   "cell_type": "code",
   "execution_count": 28,
   "id": "5c5d2587",
   "metadata": {},
   "outputs": [
    {
     "data": {
      "text/plain": [
       "array(['OR', 'OR', 'CG', ..., 'CG', 'CG', 'CG'], dtype='<U2')"
      ]
     },
     "execution_count": 28,
     "metadata": {},
     "output_type": "execute_result"
    }
   ],
   "source": [
    "predictions = pipeline.predict(review_test)\n",
    "predictions"
   ]
  },
  {
   "cell_type": "code",
   "execution_count": 29,
   "id": "f921c833",
   "metadata": {},
   "outputs": [
    {
     "name": "stdout",
     "output_type": "stream",
     "text": [
      "Classification Report:               precision    recall  f1-score   support\n",
      "\n",
      "          CG       0.82      0.89      0.85      7067\n",
      "          OR       0.88      0.81      0.84      7084\n",
      "\n",
      "    accuracy                           0.85     14151\n",
      "   macro avg       0.85      0.85      0.85     14151\n",
      "weighted avg       0.85      0.85      0.85     14151\n",
      "\n",
      "Confusion Matrix: [[6270  797]\n",
      " [1372 5712]]\n",
      "Accuracy Score: 0.8467246131015476\n"
     ]
    }
   ],
   "source": [
    "print('Classification Report:',classification_report(label_test,predictions))\n",
    "print('Confusion Matrix:',confusion_matrix(label_test,predictions))\n",
    "print('Accuracy Score:',accuracy_score(label_test,predictions))"
   ]
  },
  {
   "cell_type": "code",
   "execution_count": 30,
   "id": "f9a1b893",
   "metadata": {},
   "outputs": [
    {
     "name": "stdout",
     "output_type": "stream",
     "text": [
      "Model Prediction Accuracy: 84.67%\n"
     ]
    }
   ],
   "source": [
    "print('Model Prediction Accuracy:',str(np.round(accuracy_score(label_test,predictions)*100,2)) + '%')"
   ]
  },
  {
   "cell_type": "code",
   "execution_count": 31,
   "id": "ce7083df",
   "metadata": {},
   "outputs": [],
   "source": [
    "pipeline = Pipeline([\n",
    "    ('bow',CountVectorizer(analyzer=text_process)),\n",
    "    ('tfidf',TfidfTransformer()),\n",
    "    ('classifier',RandomForestClassifier())\n",
    "])"
   ]
  },
  {
   "cell_type": "code",
   "execution_count": 32,
   "id": "7e5aad6e",
   "metadata": {},
   "outputs": [
    {
     "data": {
      "text/plain": [
       "Pipeline(steps=[('bow',\n",
       "                 CountVectorizer(analyzer=<function text_process at 0x000001BC5B6AAD30>)),\n",
       "                ('tfidf', TfidfTransformer()),\n",
       "                ('classifier', RandomForestClassifier())])"
      ]
     },
     "execution_count": 32,
     "metadata": {},
     "output_type": "execute_result"
    }
   ],
   "source": [
    "pipeline.fit(review_train,label_train)"
   ]
  },
  {
   "cell_type": "code",
   "execution_count": 33,
   "id": "0ab07e65",
   "metadata": {},
   "outputs": [
    {
     "data": {
      "text/plain": [
       "array(['OR', 'OR', 'OR', ..., 'CG', 'CG', 'CG'], dtype=object)"
      ]
     },
     "execution_count": 33,
     "metadata": {},
     "output_type": "execute_result"
    }
   ],
   "source": [
    "rfc_pred = pipeline.predict(review_test)\n",
    "rfc_pred"
   ]
  },
  {
   "cell_type": "code",
   "execution_count": 34,
   "id": "68e19966",
   "metadata": {},
   "outputs": [
    {
     "name": "stdout",
     "output_type": "stream",
     "text": [
      "Classification Report:               precision    recall  f1-score   support\n",
      "\n",
      "          CG       0.81      0.89      0.85      7067\n",
      "          OR       0.87      0.79      0.83      7084\n",
      "\n",
      "    accuracy                           0.84     14151\n",
      "   macro avg       0.84      0.84      0.84     14151\n",
      "weighted avg       0.84      0.84      0.84     14151\n",
      "\n",
      "Confusion Matrix: [[6261  806]\n",
      " [1455 5629]]\n",
      "Accuracy Score: 0.8402233057734436\n",
      "Model Prediction Accuracy: 84.02%\n"
     ]
    }
   ],
   "source": [
    "print('Classification Report:',classification_report(label_test,rfc_pred))\n",
    "print('Confusion Matrix:',confusion_matrix(label_test,rfc_pred))\n",
    "print('Accuracy Score:',accuracy_score(label_test,rfc_pred))\n",
    "print('Model Prediction Accuracy:',str(np.round(accuracy_score(label_test,rfc_pred)*100,2)) + '%')"
   ]
  },
  {
   "cell_type": "code",
   "execution_count": 35,
   "id": "0c018b28",
   "metadata": {},
   "outputs": [],
   "source": [
    "pipeline = Pipeline([\n",
    "    ('bow',CountVectorizer(analyzer=text_process)),\n",
    "    ('tfidf',TfidfTransformer()),\n",
    "    ('classifier',DecisionTreeClassifier())\n",
    "])"
   ]
  },
  {
   "cell_type": "code",
   "execution_count": 36,
   "id": "9e33916b",
   "metadata": {},
   "outputs": [
    {
     "data": {
      "text/plain": [
       "Pipeline(steps=[('bow',\n",
       "                 CountVectorizer(analyzer=<function text_process at 0x000001BC5B6AAD30>)),\n",
       "                ('tfidf', TfidfTransformer()),\n",
       "                ('classifier', DecisionTreeClassifier())])"
      ]
     },
     "execution_count": 36,
     "metadata": {},
     "output_type": "execute_result"
    }
   ],
   "source": [
    "pipeline.fit(review_train,label_train)"
   ]
  },
  {
   "cell_type": "code",
   "execution_count": 37,
   "id": "5e483f90",
   "metadata": {},
   "outputs": [
    {
     "data": {
      "text/plain": [
       "array(['CG', 'OR', 'OR', ..., 'CG', 'CG', 'CG'], dtype=object)"
      ]
     },
     "execution_count": 37,
     "metadata": {},
     "output_type": "execute_result"
    }
   ],
   "source": [
    "dtree_pred = pipeline.predict(review_test)\n",
    "dtree_pred"
   ]
  },
  {
   "cell_type": "code",
   "execution_count": 38,
   "id": "c775e38e",
   "metadata": {},
   "outputs": [
    {
     "name": "stdout",
     "output_type": "stream",
     "text": [
      "Classification Report:               precision    recall  f1-score   support\n",
      "\n",
      "          CG       0.74      0.75      0.74      7067\n",
      "          OR       0.75      0.73      0.74      7084\n",
      "\n",
      "    accuracy                           0.74     14151\n",
      "   macro avg       0.74      0.74      0.74     14151\n",
      "weighted avg       0.74      0.74      0.74     14151\n",
      "\n",
      "Confusion Matrix: [[5329 1738]\n",
      " [1918 5166]]\n",
      "Accuracy Score: 0.7416437000918663\n",
      "Model Prediction Accuracy: 74.16%\n"
     ]
    }
   ],
   "source": [
    "print('Classification Report:',classification_report(label_test,dtree_pred))\n",
    "print('Confusion Matrix:',confusion_matrix(label_test,dtree_pred))\n",
    "print('Accuracy Score:',accuracy_score(label_test,dtree_pred))\n",
    "print('Model Prediction Accuracy:',str(np.round(accuracy_score(label_test,dtree_pred)*100,2)) + '%')"
   ]
  },
  {
   "cell_type": "code",
   "execution_count": 39,
   "id": "d2e130f7",
   "metadata": {},
   "outputs": [],
   "source": [
    "pipeline = Pipeline([\n",
    "    ('bow',CountVectorizer(analyzer=text_process)),\n",
    "    ('tfidf',TfidfTransformer()),\n",
    "    ('classifier',KNeighborsClassifier(n_neighbors=2))\n",
    "])"
   ]
  },
  {
   "cell_type": "code",
   "execution_count": 40,
   "id": "b014bfd6",
   "metadata": {},
   "outputs": [
    {
     "data": {
      "text/plain": [
       "Pipeline(steps=[('bow',\n",
       "                 CountVectorizer(analyzer=<function text_process at 0x000001BC5B6AAD30>)),\n",
       "                ('tfidf', TfidfTransformer()),\n",
       "                ('classifier', KNeighborsClassifier(n_neighbors=2))])"
      ]
     },
     "execution_count": 40,
     "metadata": {},
     "output_type": "execute_result"
    }
   ],
   "source": [
    "pipeline.fit(review_train,label_train)"
   ]
  },
  {
   "cell_type": "code",
   "execution_count": 41,
   "id": "af69506a",
   "metadata": {},
   "outputs": [
    {
     "data": {
      "text/plain": [
       "array(['CG', 'OR', 'CG', ..., 'CG', 'CG', 'CG'], dtype=object)"
      ]
     },
     "execution_count": 41,
     "metadata": {},
     "output_type": "execute_result"
    }
   ],
   "source": [
    "knn_pred = pipeline.predict(review_test)\n",
    "knn_pred"
   ]
  },
  {
   "cell_type": "code",
   "execution_count": 42,
   "id": "f9d23318",
   "metadata": {},
   "outputs": [
    {
     "name": "stdout",
     "output_type": "stream",
     "text": [
      "Classification Report:               precision    recall  f1-score   support\n",
      "\n",
      "          CG       0.54      0.97      0.69      7067\n",
      "          OR       0.85      0.18      0.30      7084\n",
      "\n",
      "    accuracy                           0.58     14151\n",
      "   macro avg       0.70      0.58      0.50     14151\n",
      "weighted avg       0.70      0.58      0.50     14151\n",
      "\n",
      "Confusion Matrix: [[6842  225]\n",
      " [5788 1296]]\n",
      "Accuracy Score: 0.5750830330012013\n",
      "Model Prediction Accuracy: 57.51%\n"
     ]
    }
   ],
   "source": [
    "print('Classification Report:',classification_report(label_test,knn_pred))\n",
    "print('Confusion Matrix:',confusion_matrix(label_test,knn_pred))\n",
    "print('Accuracy Score:',accuracy_score(label_test,knn_pred))\n",
    "print('Model Prediction Accuracy:',str(np.round(accuracy_score(label_test,knn_pred)*100,2)) + '%')"
   ]
  },
  {
   "cell_type": "code",
   "execution_count": 29,
   "id": "411b3693",
   "metadata": {},
   "outputs": [],
   "source": [
    "pipeline = Pipeline([\n",
    "    ('bow',CountVectorizer(analyzer=text_process)),\n",
    "    ('tfidf',TfidfTransformer()),\n",
    "    ('classifier',SVC())\n",
    "])"
   ]
  },
  {
   "cell_type": "code",
   "execution_count": 30,
   "id": "d166fa0b",
   "metadata": {},
   "outputs": [
    {
     "data": {
      "text/plain": [
       "Pipeline(steps=[('bow',\n",
       "                 CountVectorizer(analyzer=<function text_process at 0x000002958FF459D0>)),\n",
       "                ('tfidf', TfidfTransformer()), ('classifier', SVC())])"
      ]
     },
     "execution_count": 30,
     "metadata": {},
     "output_type": "execute_result"
    }
   ],
   "source": [
    "pipeline.fit(review_train,label_train)"
   ]
  },
  {
   "cell_type": "code",
   "execution_count": 31,
   "id": "6b1224c9",
   "metadata": {},
   "outputs": [
    {
     "data": {
      "text/plain": [
       "array(['OR', 'CG', 'CG', ..., 'OR', 'CG', 'OR'], dtype=object)"
      ]
     },
     "execution_count": 31,
     "metadata": {},
     "output_type": "execute_result"
    }
   ],
   "source": [
    "svc_pred = pipeline.predict(review_test)\n",
    "svc_pred"
   ]
  },
  {
   "cell_type": "code",
   "execution_count": 32,
   "id": "fb5086a5",
   "metadata": {},
   "outputs": [
    {
     "name": "stdout",
     "output_type": "stream",
     "text": [
      "Classification Report:               precision    recall  f1-score   support\n",
      "\n",
      "          CG       0.89      0.86      0.88      7093\n",
      "          OR       0.87      0.90      0.88      7058\n",
      "\n",
      "    accuracy                           0.88     14151\n",
      "   macro avg       0.88      0.88      0.88     14151\n",
      "weighted avg       0.88      0.88      0.88     14151\n",
      "\n",
      "Confusion Matrix: [[6128  965]\n",
      " [ 726 6332]]\n",
      "Accuracy Score: 0.8805031446540881\n",
      "Model Prediction Accuracy: 88.05%\n"
     ]
    }
   ],
   "source": [
    "print('Classification Report:',classification_report(label_test,svc_pred))\n",
    "print('Confusion Matrix:',confusion_matrix(label_test,svc_pred))\n",
    "print('Accuracy Score:',accuracy_score(label_test,svc_pred))\n",
    "print('Model Prediction Accuracy:',str(np.round(accuracy_score(label_test,svc_pred)*100,2)) + '%')"
   ]
  },
  {
   "cell_type": "code",
   "execution_count": 47,
   "id": "fe899074",
   "metadata": {},
   "outputs": [],
   "source": [
    "pipeline = Pipeline([\n",
    "    ('bow',CountVectorizer(analyzer=text_process)),\n",
    "    ('tfidf',TfidfTransformer()),\n",
    "    ('classifier',LogisticRegression())\n",
    "])"
   ]
  },
  {
   "cell_type": "code",
   "execution_count": 48,
   "id": "c0daa08e",
   "metadata": {},
   "outputs": [
    {
     "data": {
      "text/plain": [
       "Pipeline(steps=[('bow',\n",
       "                 CountVectorizer(analyzer=<function text_process at 0x000001BC5B6AAD30>)),\n",
       "                ('tfidf', TfidfTransformer()),\n",
       "                ('classifier', LogisticRegression())])"
      ]
     },
     "execution_count": 48,
     "metadata": {},
     "output_type": "execute_result"
    }
   ],
   "source": [
    "pipeline.fit(review_train,label_train)"
   ]
  },
  {
   "cell_type": "code",
   "execution_count": 49,
   "id": "087b741a",
   "metadata": {},
   "outputs": [
    {
     "data": {
      "text/plain": [
       "array(['OR', 'OR', 'CG', ..., 'CG', 'CG', 'CG'], dtype=object)"
      ]
     },
     "execution_count": 49,
     "metadata": {},
     "output_type": "execute_result"
    }
   ],
   "source": [
    "lr_pred = pipeline.predict(review_test)\n",
    "lr_pred"
   ]
  },
  {
   "cell_type": "code",
   "execution_count": 50,
   "id": "a992daa6",
   "metadata": {},
   "outputs": [
    {
     "name": "stdout",
     "output_type": "stream",
     "text": [
      "Classification Report:               precision    recall  f1-score   support\n",
      "\n",
      "          CG       0.87      0.85      0.86      7067\n",
      "          OR       0.85      0.88      0.87      7084\n",
      "\n",
      "    accuracy                           0.86     14151\n",
      "   macro avg       0.86      0.86      0.86     14151\n",
      "weighted avg       0.86      0.86      0.86     14151\n",
      "\n",
      "Confusion Matrix: [[6009 1058]\n",
      " [ 870 6214]]\n",
      "Accuracy Score: 0.86375521164582\n",
      "Model Prediction Accuracy: 86.38%\n"
     ]
    }
   ],
   "source": [
    "print('Classification Report:',classification_report(label_test,lr_pred))\n",
    "print('Confusion Matrix:',confusion_matrix(label_test,lr_pred))\n",
    "print('Accuracy Score:',accuracy_score(label_test,lr_pred))\n",
    "print('Model Prediction Accuracy:',str(np.round(accuracy_score(label_test,lr_pred)*100,2)) + '%')"
   ]
  },
  {
   "cell_type": "markdown",
   "id": "d6e0caeb",
   "metadata": {},
   "source": [
    "# Conclusion"
   ]
  },
  {
   "cell_type": "code",
   "execution_count": 51,
   "id": "d092c25e",
   "metadata": {},
   "outputs": [
    {
     "name": "stdout",
     "output_type": "stream",
     "text": [
      "Performance of various ML models:\n",
      "\n",
      "\n",
      "Logistic Regression Prediction Accuracy: 86.38%\n",
      "K Nearest Neighbors Prediction Accuracy: 57.51%\n",
      "Decision Tree Classifier Prediction Accuracy: 74.16%\n",
      "Random Forests Classifier Prediction Accuracy: 84.02%\n",
      "Support Vector Machines Prediction Accuracy: 88.01%\n",
      "Multinomial Naive Bayes Prediction Accuracy: 84.67%\n"
     ]
    }
   ],
   "source": [
    "print('Performance of various ML models:')\n",
    "print('\\n')\n",
    "print('Logistic Regression Prediction Accuracy:',str(np.round(accuracy_score(label_test,lr_pred)*100,2)) + '%')\n",
    "print('K Nearest Neighbors Prediction Accuracy:',str(np.round(accuracy_score(label_test,knn_pred)*100,2)) + '%')\n",
    "print('Decision Tree Classifier Prediction Accuracy:',str(np.round(accuracy_score(label_test,dtree_pred)*100,2)) + '%')\n",
    "print('Random Forests Classifier Prediction Accuracy:',str(np.round(accuracy_score(label_test,rfc_pred)*100,2)) + '%')\n",
    "print('Support Vector Machines Prediction Accuracy:',str(np.round(accuracy_score(label_test,svc_pred)*100,2)) + '%')\n",
    "print('Multinomial Naive Bayes Prediction Accuracy:',str(np.round(accuracy_score(label_test,predictions)*100,2)) + '%')"
   ]
  },
  {
   "cell_type": "markdown",
   "id": "d4e20ef7",
   "metadata": {},
   "source": [
    "# Using SVM model to predict the unlabeled data "
   ]
  },
  {
   "cell_type": "code",
   "execution_count": 59,
   "id": "6890bd5e",
   "metadata": {},
   "outputs": [],
   "source": [
    "Unlabled_df=pd.read_csv(\"Preprocessed Unlabeled Reviews Dataset.csv\")"
   ]
  },
  {
   "cell_type": "code",
   "execution_count": 60,
   "id": "1d474e51",
   "metadata": {},
   "outputs": [
    {
     "data": {
      "text/html": [
       "<div>\n",
       "<style scoped>\n",
       "    .dataframe tbody tr th:only-of-type {\n",
       "        vertical-align: middle;\n",
       "    }\n",
       "\n",
       "    .dataframe tbody tr th {\n",
       "        vertical-align: top;\n",
       "    }\n",
       "\n",
       "    .dataframe thead th {\n",
       "        text-align: right;\n",
       "    }\n",
       "</style>\n",
       "<table border=\"1\" class=\"dataframe\">\n",
       "  <thead>\n",
       "    <tr style=\"text-align: right;\">\n",
       "      <th></th>\n",
       "      <th>Unnamed: 0</th>\n",
       "      <th>Id</th>\n",
       "      <th>ProductId</th>\n",
       "      <th>UserId</th>\n",
       "      <th>ProfileName</th>\n",
       "      <th>HelpfulnessNumerator</th>\n",
       "      <th>HelpfulnessDenominator</th>\n",
       "      <th>Score</th>\n",
       "      <th>Time</th>\n",
       "      <th>Summary</th>\n",
       "      <th>Text</th>\n",
       "    </tr>\n",
       "  </thead>\n",
       "  <tbody>\n",
       "    <tr>\n",
       "      <th>0</th>\n",
       "      <td>0</td>\n",
       "      <td>1</td>\n",
       "      <td>B001E4KFG0</td>\n",
       "      <td>A3SGXH7AUHU8GW</td>\n",
       "      <td>delmartian</td>\n",
       "      <td>1</td>\n",
       "      <td>1</td>\n",
       "      <td>5</td>\n",
       "      <td>1303862400</td>\n",
       "      <td>Good Quality Dog Food</td>\n",
       "      <td>bought sever vital can dog food product found ...</td>\n",
       "    </tr>\n",
       "    <tr>\n",
       "      <th>1</th>\n",
       "      <td>1</td>\n",
       "      <td>2</td>\n",
       "      <td>B00813GRG4</td>\n",
       "      <td>A1D87F6ZCVE5NK</td>\n",
       "      <td>dll pa</td>\n",
       "      <td>0</td>\n",
       "      <td>0</td>\n",
       "      <td>1</td>\n",
       "      <td>1346976000</td>\n",
       "      <td>Not as Advertised</td>\n",
       "      <td>product arriv label jumbo salt peanutsth peanu...</td>\n",
       "    </tr>\n",
       "    <tr>\n",
       "      <th>2</th>\n",
       "      <td>2</td>\n",
       "      <td>3</td>\n",
       "      <td>B000LQOCH0</td>\n",
       "      <td>ABXLMWJIXXAIN</td>\n",
       "      <td>Natalia Corres \"Natalia Corres\"</td>\n",
       "      <td>1</td>\n",
       "      <td>1</td>\n",
       "      <td>4</td>\n",
       "      <td>1219017600</td>\n",
       "      <td>\"Delight\" says it all</td>\n",
       "      <td>confect around centuri light pillowi citru gel...</td>\n",
       "    </tr>\n",
       "    <tr>\n",
       "      <th>3</th>\n",
       "      <td>3</td>\n",
       "      <td>4</td>\n",
       "      <td>B000UA0QIQ</td>\n",
       "      <td>A395BORC6FGVXV</td>\n",
       "      <td>Karl</td>\n",
       "      <td>3</td>\n",
       "      <td>3</td>\n",
       "      <td>2</td>\n",
       "      <td>1307923200</td>\n",
       "      <td>Cough Medicine</td>\n",
       "      <td>look secret ingredi robitussin believ found go...</td>\n",
       "    </tr>\n",
       "    <tr>\n",
       "      <th>4</th>\n",
       "      <td>4</td>\n",
       "      <td>5</td>\n",
       "      <td>B006K2ZZ7K</td>\n",
       "      <td>A1UQRSCLF8GW1T</td>\n",
       "      <td>Michael D. Bigham \"M. Wassir\"</td>\n",
       "      <td>0</td>\n",
       "      <td>0</td>\n",
       "      <td>5</td>\n",
       "      <td>1350777600</td>\n",
       "      <td>Great taffy</td>\n",
       "      <td>great taffi great price wide assort yummi taff...</td>\n",
       "    </tr>\n",
       "  </tbody>\n",
       "</table>\n",
       "</div>"
      ],
      "text/plain": [
       "   Unnamed: 0  Id   ProductId          UserId  \\\n",
       "0           0   1  B001E4KFG0  A3SGXH7AUHU8GW   \n",
       "1           1   2  B00813GRG4  A1D87F6ZCVE5NK   \n",
       "2           2   3  B000LQOCH0   ABXLMWJIXXAIN   \n",
       "3           3   4  B000UA0QIQ  A395BORC6FGVXV   \n",
       "4           4   5  B006K2ZZ7K  A1UQRSCLF8GW1T   \n",
       "\n",
       "                       ProfileName  HelpfulnessNumerator  \\\n",
       "0                       delmartian                     1   \n",
       "1                           dll pa                     0   \n",
       "2  Natalia Corres \"Natalia Corres\"                     1   \n",
       "3                             Karl                     3   \n",
       "4    Michael D. Bigham \"M. Wassir\"                     0   \n",
       "\n",
       "   HelpfulnessDenominator  Score        Time                Summary  \\\n",
       "0                       1      5  1303862400  Good Quality Dog Food   \n",
       "1                       0      1  1346976000      Not as Advertised   \n",
       "2                       1      4  1219017600  \"Delight\" says it all   \n",
       "3                       3      2  1307923200         Cough Medicine   \n",
       "4                       0      5  1350777600            Great taffy   \n",
       "\n",
       "                                                Text  \n",
       "0  bought sever vital can dog food product found ...  \n",
       "1  product arriv label jumbo salt peanutsth peanu...  \n",
       "2  confect around centuri light pillowi citru gel...  \n",
       "3  look secret ingredi robitussin believ found go...  \n",
       "4  great taffi great price wide assort yummi taff...  "
      ]
     },
     "execution_count": 60,
     "metadata": {},
     "output_type": "execute_result"
    }
   ],
   "source": [
    "Unlabled_df.head()"
   ]
  },
  {
   "cell_type": "code",
   "execution_count": 65,
   "id": "95da0604",
   "metadata": {},
   "outputs": [],
   "source": [
    "review_text= Unlabled_df['Text']"
   ]
  },
  {
   "cell_type": "code",
   "execution_count": 64,
   "id": "2525c4ca",
   "metadata": {},
   "outputs": [
    {
     "data": {
      "text/plain": [
       "array(['OR', 'OR', 'OR', ..., 'OR', 'OR', 'OR'], dtype=object)"
      ]
     },
     "execution_count": 64,
     "metadata": {},
     "output_type": "execute_result"
    }
   ],
   "source": [
    "svc_pred = pipeline.predict(review_text)\n",
    "svc_pred"
   ]
  },
  {
   "cell_type": "code",
   "execution_count": 63,
   "id": "d75f93f1",
   "metadata": {},
   "outputs": [],
   "source": [
    "review_text = pd.Series(review_text)"
   ]
  },
  {
   "cell_type": "code",
   "execution_count": 69,
   "id": "945d2e27",
   "metadata": {},
   "outputs": [],
   "source": [
    "svc_pred = np.array(svc_pred)"
   ]
  },
  {
   "cell_type": "code",
   "execution_count": 76,
   "id": "30bc28c4",
   "metadata": {},
   "outputs": [
    {
     "data": {
      "text/html": [
       "<div>\n",
       "<style scoped>\n",
       "    .dataframe tbody tr th:only-of-type {\n",
       "        vertical-align: middle;\n",
       "    }\n",
       "\n",
       "    .dataframe tbody tr th {\n",
       "        vertical-align: top;\n",
       "    }\n",
       "\n",
       "    .dataframe thead th {\n",
       "        text-align: right;\n",
       "    }\n",
       "</style>\n",
       "<table border=\"1\" class=\"dataframe\">\n",
       "  <thead>\n",
       "    <tr style=\"text-align: right;\">\n",
       "      <th></th>\n",
       "      <th>Unnamed: 0</th>\n",
       "      <th>Id</th>\n",
       "      <th>ProductId</th>\n",
       "      <th>UserId</th>\n",
       "      <th>ProfileName</th>\n",
       "      <th>HelpfulnessNumerator</th>\n",
       "      <th>HelpfulnessDenominator</th>\n",
       "      <th>Score</th>\n",
       "      <th>Time</th>\n",
       "      <th>Summary</th>\n",
       "      <th>Text</th>\n",
       "      <th>Status</th>\n",
       "    </tr>\n",
       "  </thead>\n",
       "  <tbody>\n",
       "    <tr>\n",
       "      <th>0</th>\n",
       "      <td>0</td>\n",
       "      <td>1</td>\n",
       "      <td>B001E4KFG0</td>\n",
       "      <td>A3SGXH7AUHU8GW</td>\n",
       "      <td>delmartian</td>\n",
       "      <td>1</td>\n",
       "      <td>1</td>\n",
       "      <td>5</td>\n",
       "      <td>1303862400</td>\n",
       "      <td>Good Quality Dog Food</td>\n",
       "      <td>bought sever vital can dog food product found ...</td>\n",
       "      <td>OR</td>\n",
       "    </tr>\n",
       "    <tr>\n",
       "      <th>1</th>\n",
       "      <td>1</td>\n",
       "      <td>2</td>\n",
       "      <td>B00813GRG4</td>\n",
       "      <td>A1D87F6ZCVE5NK</td>\n",
       "      <td>dll pa</td>\n",
       "      <td>0</td>\n",
       "      <td>0</td>\n",
       "      <td>1</td>\n",
       "      <td>1346976000</td>\n",
       "      <td>Not as Advertised</td>\n",
       "      <td>product arriv label jumbo salt peanutsth peanu...</td>\n",
       "      <td>OR</td>\n",
       "    </tr>\n",
       "    <tr>\n",
       "      <th>2</th>\n",
       "      <td>2</td>\n",
       "      <td>3</td>\n",
       "      <td>B000LQOCH0</td>\n",
       "      <td>ABXLMWJIXXAIN</td>\n",
       "      <td>Natalia Corres \"Natalia Corres\"</td>\n",
       "      <td>1</td>\n",
       "      <td>1</td>\n",
       "      <td>4</td>\n",
       "      <td>1219017600</td>\n",
       "      <td>\"Delight\" says it all</td>\n",
       "      <td>confect around centuri light pillowi citru gel...</td>\n",
       "      <td>OR</td>\n",
       "    </tr>\n",
       "    <tr>\n",
       "      <th>3</th>\n",
       "      <td>3</td>\n",
       "      <td>4</td>\n",
       "      <td>B000UA0QIQ</td>\n",
       "      <td>A395BORC6FGVXV</td>\n",
       "      <td>Karl</td>\n",
       "      <td>3</td>\n",
       "      <td>3</td>\n",
       "      <td>2</td>\n",
       "      <td>1307923200</td>\n",
       "      <td>Cough Medicine</td>\n",
       "      <td>look secret ingredi robitussin believ found go...</td>\n",
       "      <td>OR</td>\n",
       "    </tr>\n",
       "    <tr>\n",
       "      <th>4</th>\n",
       "      <td>4</td>\n",
       "      <td>5</td>\n",
       "      <td>B006K2ZZ7K</td>\n",
       "      <td>A1UQRSCLF8GW1T</td>\n",
       "      <td>Michael D. Bigham \"M. Wassir\"</td>\n",
       "      <td>0</td>\n",
       "      <td>0</td>\n",
       "      <td>5</td>\n",
       "      <td>1350777600</td>\n",
       "      <td>Great taffy</td>\n",
       "      <td>great taffi great price wide assort yummi taff...</td>\n",
       "      <td>OR</td>\n",
       "    </tr>\n",
       "    <tr>\n",
       "      <th>...</th>\n",
       "      <td>...</td>\n",
       "      <td>...</td>\n",
       "      <td>...</td>\n",
       "      <td>...</td>\n",
       "      <td>...</td>\n",
       "      <td>...</td>\n",
       "      <td>...</td>\n",
       "      <td>...</td>\n",
       "      <td>...</td>\n",
       "      <td>...</td>\n",
       "      <td>...</td>\n",
       "      <td>...</td>\n",
       "    </tr>\n",
       "    <tr>\n",
       "      <th>49995</th>\n",
       "      <td>49995</td>\n",
       "      <td>49996</td>\n",
       "      <td>B00430B73W</td>\n",
       "      <td>AKW867T7C6HF8</td>\n",
       "      <td>HWJ3</td>\n",
       "      <td>0</td>\n",
       "      <td>0</td>\n",
       "      <td>5</td>\n",
       "      <td>1261180800</td>\n",
       "      <td>Grown to really like them</td>\n",
       "      <td>sister introduc becom favorit carri around pic...</td>\n",
       "      <td>OR</td>\n",
       "    </tr>\n",
       "    <tr>\n",
       "      <th>49996</th>\n",
       "      <td>49996</td>\n",
       "      <td>49997</td>\n",
       "      <td>B00430B73W</td>\n",
       "      <td>A2PEHNEDMHOYTW</td>\n",
       "      <td>L. Allen</td>\n",
       "      <td>0</td>\n",
       "      <td>0</td>\n",
       "      <td>5</td>\n",
       "      <td>1258934400</td>\n",
       "      <td>Healthy Snack at a great price!</td>\n",
       "      <td>friend recommend bar fell love great price esp...</td>\n",
       "      <td>OR</td>\n",
       "    </tr>\n",
       "    <tr>\n",
       "      <th>49997</th>\n",
       "      <td>49997</td>\n",
       "      <td>49998</td>\n",
       "      <td>B00430B73W</td>\n",
       "      <td>A2QH2KF2IAB143</td>\n",
       "      <td>J. A. Meyers \"Jan\"</td>\n",
       "      <td>0</td>\n",
       "      <td>0</td>\n",
       "      <td>5</td>\n",
       "      <td>1257379200</td>\n",
       "      <td>Raw Revolution Hazelnut Cashew</td>\n",
       "      <td>fabul take one work everi day feel depriv with...</td>\n",
       "      <td>OR</td>\n",
       "    </tr>\n",
       "    <tr>\n",
       "      <th>49998</th>\n",
       "      <td>49998</td>\n",
       "      <td>49999</td>\n",
       "      <td>B00430B73W</td>\n",
       "      <td>AMX286UGXISMA</td>\n",
       "      <td>Aaron Dragushan</td>\n",
       "      <td>0</td>\n",
       "      <td>0</td>\n",
       "      <td>4</td>\n",
       "      <td>1247702400</td>\n",
       "      <td>fantastic, but chew carefully</td>\n",
       "      <td>love bar continu buy bewar occasion contain sm...</td>\n",
       "      <td>OR</td>\n",
       "    </tr>\n",
       "    <tr>\n",
       "      <th>49999</th>\n",
       "      <td>49999</td>\n",
       "      <td>50000</td>\n",
       "      <td>B00430B73W</td>\n",
       "      <td>A3042WJDYJ22S8</td>\n",
       "      <td>Sunny Side Up \"CoffeeBuzz\"</td>\n",
       "      <td>0</td>\n",
       "      <td>0</td>\n",
       "      <td>5</td>\n",
       "      <td>1178755200</td>\n",
       "      <td>Very Tasty and Healthy.</td>\n",
       "      <td>good nutriti great flavor textur minim process</td>\n",
       "      <td>OR</td>\n",
       "    </tr>\n",
       "  </tbody>\n",
       "</table>\n",
       "<p>50000 rows × 12 columns</p>\n",
       "</div>"
      ],
      "text/plain": [
       "       Unnamed: 0     Id   ProductId          UserId  \\\n",
       "0               0      1  B001E4KFG0  A3SGXH7AUHU8GW   \n",
       "1               1      2  B00813GRG4  A1D87F6ZCVE5NK   \n",
       "2               2      3  B000LQOCH0   ABXLMWJIXXAIN   \n",
       "3               3      4  B000UA0QIQ  A395BORC6FGVXV   \n",
       "4               4      5  B006K2ZZ7K  A1UQRSCLF8GW1T   \n",
       "...           ...    ...         ...             ...   \n",
       "49995       49995  49996  B00430B73W   AKW867T7C6HF8   \n",
       "49996       49996  49997  B00430B73W  A2PEHNEDMHOYTW   \n",
       "49997       49997  49998  B00430B73W  A2QH2KF2IAB143   \n",
       "49998       49998  49999  B00430B73W   AMX286UGXISMA   \n",
       "49999       49999  50000  B00430B73W  A3042WJDYJ22S8   \n",
       "\n",
       "                           ProfileName  HelpfulnessNumerator  \\\n",
       "0                           delmartian                     1   \n",
       "1                               dll pa                     0   \n",
       "2      Natalia Corres \"Natalia Corres\"                     1   \n",
       "3                                 Karl                     3   \n",
       "4        Michael D. Bigham \"M. Wassir\"                     0   \n",
       "...                                ...                   ...   \n",
       "49995                             HWJ3                     0   \n",
       "49996                         L. Allen                     0   \n",
       "49997               J. A. Meyers \"Jan\"                     0   \n",
       "49998                  Aaron Dragushan                     0   \n",
       "49999       Sunny Side Up \"CoffeeBuzz\"                     0   \n",
       "\n",
       "       HelpfulnessDenominator  Score        Time  \\\n",
       "0                           1      5  1303862400   \n",
       "1                           0      1  1346976000   \n",
       "2                           1      4  1219017600   \n",
       "3                           3      2  1307923200   \n",
       "4                           0      5  1350777600   \n",
       "...                       ...    ...         ...   \n",
       "49995                       0      5  1261180800   \n",
       "49996                       0      5  1258934400   \n",
       "49997                       0      5  1257379200   \n",
       "49998                       0      4  1247702400   \n",
       "49999                       0      5  1178755200   \n",
       "\n",
       "                               Summary  \\\n",
       "0                Good Quality Dog Food   \n",
       "1                    Not as Advertised   \n",
       "2                \"Delight\" says it all   \n",
       "3                       Cough Medicine   \n",
       "4                          Great taffy   \n",
       "...                                ...   \n",
       "49995        Grown to really like them   \n",
       "49996  Healthy Snack at a great price!   \n",
       "49997   Raw Revolution Hazelnut Cashew   \n",
       "49998    fantastic, but chew carefully   \n",
       "49999          Very Tasty and Healthy.   \n",
       "\n",
       "                                                    Text Status  \n",
       "0      bought sever vital can dog food product found ...     OR  \n",
       "1      product arriv label jumbo salt peanutsth peanu...     OR  \n",
       "2      confect around centuri light pillowi citru gel...     OR  \n",
       "3      look secret ingredi robitussin believ found go...     OR  \n",
       "4      great taffi great price wide assort yummi taff...     OR  \n",
       "...                                                  ...    ...  \n",
       "49995  sister introduc becom favorit carri around pic...     OR  \n",
       "49996  friend recommend bar fell love great price esp...     OR  \n",
       "49997  fabul take one work everi day feel depriv with...     OR  \n",
       "49998  love bar continu buy bewar occasion contain sm...     OR  \n",
       "49999     good nutriti great flavor textur minim process     OR  \n",
       "\n",
       "[50000 rows x 12 columns]"
      ]
     },
     "execution_count": 76,
     "metadata": {},
     "output_type": "execute_result"
    }
   ],
   "source": [
    "Unlabled_df['Status']= svc_pred\n",
    "Unlabled_df"
   ]
  },
  {
   "cell_type": "code",
   "execution_count": 77,
   "id": "a615f248",
   "metadata": {},
   "outputs": [],
   "source": [
    "OR_REVIEWS= Unlabled_df[Unlabled_df['Status'] == 'OR']"
   ]
  },
  {
   "cell_type": "code",
   "execution_count": 78,
   "id": "9b3bb313",
   "metadata": {},
   "outputs": [
    {
     "data": {
      "text/html": [
       "<div>\n",
       "<style scoped>\n",
       "    .dataframe tbody tr th:only-of-type {\n",
       "        vertical-align: middle;\n",
       "    }\n",
       "\n",
       "    .dataframe tbody tr th {\n",
       "        vertical-align: top;\n",
       "    }\n",
       "\n",
       "    .dataframe thead th {\n",
       "        text-align: right;\n",
       "    }\n",
       "</style>\n",
       "<table border=\"1\" class=\"dataframe\">\n",
       "  <thead>\n",
       "    <tr style=\"text-align: right;\">\n",
       "      <th></th>\n",
       "      <th>Unnamed: 0</th>\n",
       "      <th>Id</th>\n",
       "      <th>ProductId</th>\n",
       "      <th>UserId</th>\n",
       "      <th>ProfileName</th>\n",
       "      <th>HelpfulnessNumerator</th>\n",
       "      <th>HelpfulnessDenominator</th>\n",
       "      <th>Score</th>\n",
       "      <th>Time</th>\n",
       "      <th>Summary</th>\n",
       "      <th>Text</th>\n",
       "      <th>Status</th>\n",
       "    </tr>\n",
       "  </thead>\n",
       "  <tbody>\n",
       "    <tr>\n",
       "      <th>0</th>\n",
       "      <td>0</td>\n",
       "      <td>1</td>\n",
       "      <td>B001E4KFG0</td>\n",
       "      <td>A3SGXH7AUHU8GW</td>\n",
       "      <td>delmartian</td>\n",
       "      <td>1</td>\n",
       "      <td>1</td>\n",
       "      <td>5</td>\n",
       "      <td>1303862400</td>\n",
       "      <td>Good Quality Dog Food</td>\n",
       "      <td>bought sever vital can dog food product found ...</td>\n",
       "      <td>OR</td>\n",
       "    </tr>\n",
       "    <tr>\n",
       "      <th>1</th>\n",
       "      <td>1</td>\n",
       "      <td>2</td>\n",
       "      <td>B00813GRG4</td>\n",
       "      <td>A1D87F6ZCVE5NK</td>\n",
       "      <td>dll pa</td>\n",
       "      <td>0</td>\n",
       "      <td>0</td>\n",
       "      <td>1</td>\n",
       "      <td>1346976000</td>\n",
       "      <td>Not as Advertised</td>\n",
       "      <td>product arriv label jumbo salt peanutsth peanu...</td>\n",
       "      <td>OR</td>\n",
       "    </tr>\n",
       "    <tr>\n",
       "      <th>2</th>\n",
       "      <td>2</td>\n",
       "      <td>3</td>\n",
       "      <td>B000LQOCH0</td>\n",
       "      <td>ABXLMWJIXXAIN</td>\n",
       "      <td>Natalia Corres \"Natalia Corres\"</td>\n",
       "      <td>1</td>\n",
       "      <td>1</td>\n",
       "      <td>4</td>\n",
       "      <td>1219017600</td>\n",
       "      <td>\"Delight\" says it all</td>\n",
       "      <td>confect around centuri light pillowi citru gel...</td>\n",
       "      <td>OR</td>\n",
       "    </tr>\n",
       "    <tr>\n",
       "      <th>3</th>\n",
       "      <td>3</td>\n",
       "      <td>4</td>\n",
       "      <td>B000UA0QIQ</td>\n",
       "      <td>A395BORC6FGVXV</td>\n",
       "      <td>Karl</td>\n",
       "      <td>3</td>\n",
       "      <td>3</td>\n",
       "      <td>2</td>\n",
       "      <td>1307923200</td>\n",
       "      <td>Cough Medicine</td>\n",
       "      <td>look secret ingredi robitussin believ found go...</td>\n",
       "      <td>OR</td>\n",
       "    </tr>\n",
       "    <tr>\n",
       "      <th>4</th>\n",
       "      <td>4</td>\n",
       "      <td>5</td>\n",
       "      <td>B006K2ZZ7K</td>\n",
       "      <td>A1UQRSCLF8GW1T</td>\n",
       "      <td>Michael D. Bigham \"M. Wassir\"</td>\n",
       "      <td>0</td>\n",
       "      <td>0</td>\n",
       "      <td>5</td>\n",
       "      <td>1350777600</td>\n",
       "      <td>Great taffy</td>\n",
       "      <td>great taffi great price wide assort yummi taff...</td>\n",
       "      <td>OR</td>\n",
       "    </tr>\n",
       "    <tr>\n",
       "      <th>...</th>\n",
       "      <td>...</td>\n",
       "      <td>...</td>\n",
       "      <td>...</td>\n",
       "      <td>...</td>\n",
       "      <td>...</td>\n",
       "      <td>...</td>\n",
       "      <td>...</td>\n",
       "      <td>...</td>\n",
       "      <td>...</td>\n",
       "      <td>...</td>\n",
       "      <td>...</td>\n",
       "      <td>...</td>\n",
       "    </tr>\n",
       "    <tr>\n",
       "      <th>49995</th>\n",
       "      <td>49995</td>\n",
       "      <td>49996</td>\n",
       "      <td>B00430B73W</td>\n",
       "      <td>AKW867T7C6HF8</td>\n",
       "      <td>HWJ3</td>\n",
       "      <td>0</td>\n",
       "      <td>0</td>\n",
       "      <td>5</td>\n",
       "      <td>1261180800</td>\n",
       "      <td>Grown to really like them</td>\n",
       "      <td>sister introduc becom favorit carri around pic...</td>\n",
       "      <td>OR</td>\n",
       "    </tr>\n",
       "    <tr>\n",
       "      <th>49996</th>\n",
       "      <td>49996</td>\n",
       "      <td>49997</td>\n",
       "      <td>B00430B73W</td>\n",
       "      <td>A2PEHNEDMHOYTW</td>\n",
       "      <td>L. Allen</td>\n",
       "      <td>0</td>\n",
       "      <td>0</td>\n",
       "      <td>5</td>\n",
       "      <td>1258934400</td>\n",
       "      <td>Healthy Snack at a great price!</td>\n",
       "      <td>friend recommend bar fell love great price esp...</td>\n",
       "      <td>OR</td>\n",
       "    </tr>\n",
       "    <tr>\n",
       "      <th>49997</th>\n",
       "      <td>49997</td>\n",
       "      <td>49998</td>\n",
       "      <td>B00430B73W</td>\n",
       "      <td>A2QH2KF2IAB143</td>\n",
       "      <td>J. A. Meyers \"Jan\"</td>\n",
       "      <td>0</td>\n",
       "      <td>0</td>\n",
       "      <td>5</td>\n",
       "      <td>1257379200</td>\n",
       "      <td>Raw Revolution Hazelnut Cashew</td>\n",
       "      <td>fabul take one work everi day feel depriv with...</td>\n",
       "      <td>OR</td>\n",
       "    </tr>\n",
       "    <tr>\n",
       "      <th>49998</th>\n",
       "      <td>49998</td>\n",
       "      <td>49999</td>\n",
       "      <td>B00430B73W</td>\n",
       "      <td>AMX286UGXISMA</td>\n",
       "      <td>Aaron Dragushan</td>\n",
       "      <td>0</td>\n",
       "      <td>0</td>\n",
       "      <td>4</td>\n",
       "      <td>1247702400</td>\n",
       "      <td>fantastic, but chew carefully</td>\n",
       "      <td>love bar continu buy bewar occasion contain sm...</td>\n",
       "      <td>OR</td>\n",
       "    </tr>\n",
       "    <tr>\n",
       "      <th>49999</th>\n",
       "      <td>49999</td>\n",
       "      <td>50000</td>\n",
       "      <td>B00430B73W</td>\n",
       "      <td>A3042WJDYJ22S8</td>\n",
       "      <td>Sunny Side Up \"CoffeeBuzz\"</td>\n",
       "      <td>0</td>\n",
       "      <td>0</td>\n",
       "      <td>5</td>\n",
       "      <td>1178755200</td>\n",
       "      <td>Very Tasty and Healthy.</td>\n",
       "      <td>good nutriti great flavor textur minim process</td>\n",
       "      <td>OR</td>\n",
       "    </tr>\n",
       "  </tbody>\n",
       "</table>\n",
       "<p>48391 rows × 12 columns</p>\n",
       "</div>"
      ],
      "text/plain": [
       "       Unnamed: 0     Id   ProductId          UserId  \\\n",
       "0               0      1  B001E4KFG0  A3SGXH7AUHU8GW   \n",
       "1               1      2  B00813GRG4  A1D87F6ZCVE5NK   \n",
       "2               2      3  B000LQOCH0   ABXLMWJIXXAIN   \n",
       "3               3      4  B000UA0QIQ  A395BORC6FGVXV   \n",
       "4               4      5  B006K2ZZ7K  A1UQRSCLF8GW1T   \n",
       "...           ...    ...         ...             ...   \n",
       "49995       49995  49996  B00430B73W   AKW867T7C6HF8   \n",
       "49996       49996  49997  B00430B73W  A2PEHNEDMHOYTW   \n",
       "49997       49997  49998  B00430B73W  A2QH2KF2IAB143   \n",
       "49998       49998  49999  B00430B73W   AMX286UGXISMA   \n",
       "49999       49999  50000  B00430B73W  A3042WJDYJ22S8   \n",
       "\n",
       "                           ProfileName  HelpfulnessNumerator  \\\n",
       "0                           delmartian                     1   \n",
       "1                               dll pa                     0   \n",
       "2      Natalia Corres \"Natalia Corres\"                     1   \n",
       "3                                 Karl                     3   \n",
       "4        Michael D. Bigham \"M. Wassir\"                     0   \n",
       "...                                ...                   ...   \n",
       "49995                             HWJ3                     0   \n",
       "49996                         L. Allen                     0   \n",
       "49997               J. A. Meyers \"Jan\"                     0   \n",
       "49998                  Aaron Dragushan                     0   \n",
       "49999       Sunny Side Up \"CoffeeBuzz\"                     0   \n",
       "\n",
       "       HelpfulnessDenominator  Score        Time  \\\n",
       "0                           1      5  1303862400   \n",
       "1                           0      1  1346976000   \n",
       "2                           1      4  1219017600   \n",
       "3                           3      2  1307923200   \n",
       "4                           0      5  1350777600   \n",
       "...                       ...    ...         ...   \n",
       "49995                       0      5  1261180800   \n",
       "49996                       0      5  1258934400   \n",
       "49997                       0      5  1257379200   \n",
       "49998                       0      4  1247702400   \n",
       "49999                       0      5  1178755200   \n",
       "\n",
       "                               Summary  \\\n",
       "0                Good Quality Dog Food   \n",
       "1                    Not as Advertised   \n",
       "2                \"Delight\" says it all   \n",
       "3                       Cough Medicine   \n",
       "4                          Great taffy   \n",
       "...                                ...   \n",
       "49995        Grown to really like them   \n",
       "49996  Healthy Snack at a great price!   \n",
       "49997   Raw Revolution Hazelnut Cashew   \n",
       "49998    fantastic, but chew carefully   \n",
       "49999          Very Tasty and Healthy.   \n",
       "\n",
       "                                                    Text Status  \n",
       "0      bought sever vital can dog food product found ...     OR  \n",
       "1      product arriv label jumbo salt peanutsth peanu...     OR  \n",
       "2      confect around centuri light pillowi citru gel...     OR  \n",
       "3      look secret ingredi robitussin believ found go...     OR  \n",
       "4      great taffi great price wide assort yummi taff...     OR  \n",
       "...                                                  ...    ...  \n",
       "49995  sister introduc becom favorit carri around pic...     OR  \n",
       "49996  friend recommend bar fell love great price esp...     OR  \n",
       "49997  fabul take one work everi day feel depriv with...     OR  \n",
       "49998  love bar continu buy bewar occasion contain sm...     OR  \n",
       "49999     good nutriti great flavor textur minim process     OR  \n",
       "\n",
       "[48391 rows x 12 columns]"
      ]
     },
     "execution_count": 78,
     "metadata": {},
     "output_type": "execute_result"
    }
   ],
   "source": [
    "OR_REVIEWS"
   ]
  },
  {
   "cell_type": "code",
   "execution_count": 79,
   "id": "6bb697f3",
   "metadata": {},
   "outputs": [],
   "source": [
    "OR_REVIEWS.drop('Unnamed: 0',axis=1,inplace=True)"
   ]
  },
  {
   "cell_type": "code",
   "execution_count": 81,
   "id": "8f1ca6ab",
   "metadata": {},
   "outputs": [],
   "source": [
    "OR_REVIEWS.to_csv('Orignal Reviews Dataset.csv')"
   ]
  },
  {
   "cell_type": "code",
   "execution_count": null,
   "id": "dad4a06e",
   "metadata": {},
   "outputs": [],
   "source": []
  }
 ],
 "metadata": {
  "kernelspec": {
   "display_name": "Python 3 (ipykernel)",
   "language": "python",
   "name": "python3"
  },
  "language_info": {
   "codemirror_mode": {
    "name": "ipython",
    "version": 3
   },
   "file_extension": ".py",
   "mimetype": "text/x-python",
   "name": "python",
   "nbconvert_exporter": "python",
   "pygments_lexer": "ipython3",
   "version": "3.9.13"
  }
 },
 "nbformat": 4,
 "nbformat_minor": 5
}
